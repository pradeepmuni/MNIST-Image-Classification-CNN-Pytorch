{
 "cells": [
  {
   "cell_type": "markdown",
   "metadata": {},
   "source": [
    "# MNIST Image Classification"
   ]
  },
  {
   "cell_type": "markdown",
   "metadata": {},
   "source": [
    "MNIST (\"Modified National Institute of Standards and Technology\") is the de facto “Hello World” dataset of computer vision. Since its release in 1999, this classic dataset of handwritten images has served as the basis for benchmarking classification algorithms. As new machine learning techniques emerge, MNIST remains a reliable resource for researchers and learners alike.\n",
    "\n",
    "In this classification, we aim to correctly identify digits from a dataset of tens of thousands of handwritten images by using the Convolutional Neural Network(PyTorch)"
   ]
  },
  {
   "cell_type": "markdown",
   "metadata": {},
   "source": [
    "# Import the Libraries"
   ]
  },
  {
   "cell_type": "code",
   "execution_count": 1,
   "metadata": {},
   "outputs": [],
   "source": [
    "import torch\n",
    "import numpy as np\n",
    "import pandas as pd\n",
    "import matplotlib.pyplot as plt\n",
    "import torch.nn as nn\n",
    "import torch.nn.functional as F"
   ]
  },
  {
   "cell_type": "markdown",
   "metadata": {},
   "source": [
    "## Loading the Dataset from TorchVision"
   ]
  },
  {
   "cell_type": "code",
   "execution_count": 2,
   "metadata": {},
   "outputs": [],
   "source": [
    "from torchvision import datasets, transforms\n",
    "transform = transforms.ToTensor()"
   ]
  },
  {
   "cell_type": "code",
   "execution_count": 3,
   "metadata": {},
   "outputs": [
    {
     "data": {
      "text/plain": [
       "Dataset MNIST\n",
       "    Number of datapoints: 60000\n",
       "    Root location: \n",
       "    Split: Train\n",
       "    StandardTransform\n",
       "Transform: ToTensor()"
      ]
     },
     "execution_count": 3,
     "metadata": {},
     "output_type": "execute_result"
    }
   ],
   "source": [
    "train_data = datasets.MNIST(root='', train=True, download=True, transform=transform)\n",
    "train_data"
   ]
  },
  {
   "cell_type": "code",
   "execution_count": 4,
   "metadata": {},
   "outputs": [
    {
     "data": {
      "text/plain": [
       "torchvision.datasets.mnist.MNIST"
      ]
     },
     "execution_count": 4,
     "metadata": {},
     "output_type": "execute_result"
    }
   ],
   "source": [
    "type(train_data)"
   ]
  },
  {
   "cell_type": "code",
   "execution_count": 5,
   "metadata": {},
   "outputs": [
    {
     "data": {
      "text/plain": [
       "60000"
      ]
     },
     "execution_count": 5,
     "metadata": {},
     "output_type": "execute_result"
    }
   ],
   "source": [
    "len(train_data)"
   ]
  },
  {
   "cell_type": "code",
   "execution_count": 6,
   "metadata": {
    "scrolled": true
   },
   "outputs": [
    {
     "data": {
      "text/plain": [
       "Dataset MNIST\n",
       "    Number of datapoints: 10000\n",
       "    Root location: \n",
       "    Split: Test\n",
       "    StandardTransform\n",
       "Transform: ToTensor()"
      ]
     },
     "execution_count": 6,
     "metadata": {},
     "output_type": "execute_result"
    }
   ],
   "source": [
    "test_data = datasets.MNIST(root='', train=False, download=True, transform=transform)\n",
    "test_data"
   ]
  },
  {
   "cell_type": "code",
   "execution_count": 7,
   "metadata": {
    "scrolled": true
   },
   "outputs": [
    {
     "name": "stdout",
     "output_type": "stream",
     "text": [
      "Shape: torch.Size([1, 28, 28]) \n",
      "Label: 5\n"
     ]
    }
   ],
   "source": [
    "image, label = train_data[0]\n",
    "print('Shape:', image.shape, '\\nLabel:', label)"
   ]
  },
  {
   "cell_type": "markdown",
   "metadata": {},
   "source": [
    "From the above result we can see that the dimension of the image is ``1 x 28x 28`` which indicates that the ``height = 28``, ``widith  = 28`` and ``color channel is 1`` which is black and white"
   ]
  },
  {
   "cell_type": "code",
   "execution_count": 8,
   "metadata": {},
   "outputs": [
    {
     "data": {
      "text/plain": [
       "<matplotlib.image.AxesImage at 0x2e5e34cd0f0>"
      ]
     },
     "execution_count": 8,
     "metadata": {},
     "output_type": "execute_result"
    },
    {
     "data": {
      "image/png": "[encoded data removed]",
      "text/plain": [
       "<Figure size 432x288 with 1 Axes>"
      ]
     },
     "metadata": {
      "needs_background": "light"
     },
     "output_type": "display_data"
    }
   ],
   "source": [
    "plt.imshow(train_data[0][0].reshape(28,28),cmap='gray')"
   ]
  },
  {
   "cell_type": "markdown",
   "metadata": {},
   "source": [
    "# Data Loading Strategy"
   ]
  },
  {
   "cell_type": "markdown",
   "metadata": {},
   "source": [
    "As there are more than 30k rows its not wise to feed all the data once into the CNN model. Instead we will try to feed the data in batches to the model using Dataset and DataLoader feature of Torch library"
   ]
  },
  {
   "cell_type": "code",
   "execution_count": 8,
   "metadata": {},
   "outputs": [],
   "source": [
    "from torch.utils.data import TensorDataset, DataLoader"
   ]
  },
  {
   "cell_type": "code",
   "execution_count": 9,
   "metadata": {},
   "outputs": [],
   "source": [
    "\"\"\"\n",
    "Initializing train/test dataloader object which splits the training dataset into small batches of 10 images each\n",
    "and this can be used later in the CNN model  \n",
    "\"\"\"\n",
    "torch.manual_seed(101)\n",
    "bat_sz=10\n",
    "train_loader = DataLoader(train_data,batch_size=bat_sz,shuffle=True)\n",
    "test_loader = DataLoader(test_data,batch_size=bat_sz,shuffle=False)"
   ]
  },
  {
   "cell_type": "markdown",
   "metadata": {},
   "source": [
    "# Define the CNN Model"
   ]
  },
  {
   "cell_type": "code",
   "execution_count": 10,
   "metadata": {},
   "outputs": [],
   "source": [
    "class CONVNN(nn.Module):\n",
    "    \n",
    "    def __init__(self):\n",
    "        \n",
    "        super().__init__()\n",
    "        self.conv1  = nn.Conv2d(1, 10 , 3 , 1)# We will ne using 3X3 filter/kernel and stride of 1 without any padding as MNIST images re centered and don't have any info at the border/edges\n",
    "        self.conv2  = nn.Conv2d(10, 16, 3 , 1)\n",
    "        self.layer1 = nn.Linear(16*5*5,120) # we need to calculate the resulting number of matrices passing thru the conv layer and put that corressponding o/p as the linear layer input\n",
    "        self.layer2 = nn.Linear(120,84)\n",
    "        self.layer3 = nn.Linear(84,10)\n",
    "        \n",
    "    def forward(self,x):\n",
    "        \n",
    "        x= F.max_pool2d(  F.relu(self.conv1(x)) , 2, 2) #adding relu and max pooling the same line\n",
    "        x= F.max_pool2d(  F.relu(self.conv2(x)) , 2, 2) #adding relu and max pooling the same line\n",
    "        x= F.relu(self.layer1(x.view(-1,16*5*5))) #flattening by using View and no dropout has been added\n",
    "        x= F.relu(self.layer2(x))\n",
    "        x= F.log_softmax(self.layer3(x),dim=1) #multiclass classificaiton\n",
    "        \n",
    "        return x\n",
    "    "
   ]
  },
  {
   "cell_type": "code",
   "execution_count": 11,
   "metadata": {
    "scrolled": true
   },
   "outputs": [
    {
     "data": {
      "text/plain": [
       "CONVNN(\n",
       "  (conv1): Conv2d(1, 10, kernel_size=(3, 3), stride=(1, 1))\n",
       "  (conv2): Conv2d(10, 16, kernel_size=(3, 3), stride=(1, 1))\n",
       "  (layer1): Linear(in_features=400, out_features=120, bias=True)\n",
       "  (layer2): Linear(in_features=120, out_features=84, bias=True)\n",
       "  (layer3): Linear(in_features=84, out_features=10, bias=True)\n",
       ")"
      ]
     },
     "execution_count": 11,
     "metadata": {},
     "output_type": "execute_result"
    }
   ],
   "source": [
    "torch.manual_seed(101)\n",
    "model = CONVNN()\n",
    "model"
   ]
  },
  {
   "cell_type": "markdown",
   "metadata": {},
   "source": [
    "# Define Loss and Optimizer"
   ]
  },
  {
   "cell_type": "code",
   "execution_count": 12,
   "metadata": {},
   "outputs": [],
   "source": [
    "criterion = nn.CrossEntropyLoss()\n",
    "optimizer = torch.optim.Adam(model.parameters(),lr=0.001)"
   ]
  },
  {
   "cell_type": "markdown",
   "metadata": {},
   "source": [
    "# Training the CNN Model"
   ]
  },
  {
   "cell_type": "code",
   "execution_count": 13,
   "metadata": {
    "scrolled": false
   },
   "outputs": [
    {
     "name": "stdout",
     "output_type": "stream",
     "text": [
      "\n",
      "Convolutional Neural Network Model Metrics:\n",
      "\n",
      "\t This CNN model configuration has 9 epochs with each batch size of 10 images:\n",
      "\n",
      "Epoch 1 Batch  300 loss:  0.34 Train Accuracy: 67.967%\n",
      "Epoch 1 Batch  600 loss:  0.12 Train Accuracy: 79.150%\n",
      "Epoch 1 Batch  900 loss:  0.24 Train Accuracy: 83.833%\n",
      "Epoch 1 Batch 1200 loss:  0.12 Train Accuracy: 86.492%\n",
      "Epoch 1 Batch 1500 loss:  0.01 Train Accuracy: 88.140%\n",
      "Epoch 1 Batch 1800 loss:  0.17 Train Accuracy: 89.333%\n",
      "Epoch 1 Batch 2100 loss:  0.04 Train Accuracy: 90.329%\n",
      "Epoch 1 Batch 2400 loss:  0.01 Train Accuracy: 91.025%\n",
      "Epoch 1 Batch 2700 loss:  0.03 Train Accuracy: 91.626%\n",
      "Epoch 1 Batch 3000 loss:  0.02 Train Accuracy: 92.147%\n",
      "Epoch 1 Batch 3300 loss:  0.01 Train Accuracy: 92.497%\n",
      "Epoch 1 Batch 3600 loss:  0.01 Train Accuracy: 92.889%\n",
      "Epoch 1 Batch 3900 loss:  0.23 Train Accuracy: 93.195%\n",
      "Epoch 1 Batch 4200 loss:  0.00 Train Accuracy: 93.481%\n",
      "Epoch 1 Batch 4500 loss:  0.05 Train Accuracy: 93.729%\n",
      "Epoch 1 Batch 4800 loss:  0.02 Train Accuracy: 93.973%\n",
      "Epoch 1 Batch 5100 loss:  0.05 Train Accuracy: 94.196%\n",
      "Epoch 1 Batch 5400 loss:  0.07 Train Accuracy: 94.391%\n",
      "Epoch 1 Batch 5700 loss:  0.00 Train Accuracy: 94.554%\n",
      "Epoch 1 Batch 6000 loss:  0.01 Train Accuracy: 94.700%\n",
      "After 1 Epoch the Train Accuracy is 94.700% and Test Accuracy is 98.140% \n",
      "\n",
      "Epoch 2 Batch  300 loss:  0.09 Train Accuracy: 98.100%\n",
      "Epoch 2 Batch  600 loss:  0.56 Train Accuracy: 97.883%\n",
      "Epoch 2 Batch  900 loss:  0.01 Train Accuracy: 97.833%\n",
      "Epoch 2 Batch 1200 loss:  0.00 Train Accuracy: 97.875%\n",
      "Epoch 2 Batch 1500 loss:  0.01 Train Accuracy: 97.960%\n",
      "Epoch 2 Batch 1800 loss:  0.01 Train Accuracy: 98.011%\n",
      "Epoch 2 Batch 2100 loss:  0.12 Train Accuracy: 97.981%\n",
      "Epoch 2 Batch 2400 loss:  0.20 Train Accuracy: 97.967%\n",
      "Epoch 2 Batch 2700 loss:  0.02 Train Accuracy: 97.963%\n",
      "Epoch 2 Batch 3000 loss:  0.01 Train Accuracy: 97.930%\n",
      "Epoch 2 Batch 3300 loss:  0.00 Train Accuracy: 97.994%\n",
      "Epoch 2 Batch 3600 loss:  0.12 Train Accuracy: 98.031%\n",
      "Epoch 2 Batch 3900 loss:  0.00 Train Accuracy: 98.059%\n",
      "Epoch 2 Batch 4200 loss:  0.00 Train Accuracy: 98.079%\n",
      "Epoch 2 Batch 4500 loss:  0.00 Train Accuracy: 98.104%\n",
      "Epoch 2 Batch 4800 loss:  0.00 Train Accuracy: 98.144%\n",
      "Epoch 2 Batch 5100 loss:  0.01 Train Accuracy: 98.161%\n",
      "Epoch 2 Batch 5400 loss:  0.03 Train Accuracy: 98.172%\n",
      "Epoch 2 Batch 5700 loss:  0.00 Train Accuracy: 98.156%\n",
      "Epoch 2 Batch 6000 loss:  0.12 Train Accuracy: 98.157%\n",
      "After 2 Epoch the Train Accuracy is 98.157% and Test Accuracy is 98.430% \n",
      "\n",
      "Epoch 3 Batch  300 loss:  0.00 Train Accuracy: 98.600%\n",
      "Epoch 3 Batch  600 loss:  0.01 Train Accuracy: 98.583%\n",
      "Epoch 3 Batch  900 loss:  0.00 Train Accuracy: 98.722%\n",
      "Epoch 3 Batch 1200 loss:  0.36 Train Accuracy: 98.742%\n",
      "Epoch 3 Batch 1500 loss:  0.01 Train Accuracy: 98.680%\n",
      "Epoch 3 Batch 1800 loss:  0.00 Train Accuracy: 98.683%\n",
      "Epoch 3 Batch 2100 loss:  0.02 Train Accuracy: 98.738%\n",
      "Epoch 3 Batch 2400 loss:  0.00 Train Accuracy: 98.733%\n",
      "Epoch 3 Batch 2700 loss:  0.00 Train Accuracy: 98.741%\n",
      "Epoch 3 Batch 3000 loss:  0.00 Train Accuracy: 98.743%\n",
      "Epoch 3 Batch 3300 loss:  0.00 Train Accuracy: 98.752%\n",
      "Epoch 3 Batch 3600 loss:  0.00 Train Accuracy: 98.722%\n",
      "Epoch 3 Batch 3900 loss:  0.01 Train Accuracy: 98.710%\n",
      "Epoch 3 Batch 4200 loss:  0.00 Train Accuracy: 98.690%\n",
      "Epoch 3 Batch 4500 loss:  0.00 Train Accuracy: 98.684%\n",
      "Epoch 3 Batch 4800 loss:  0.01 Train Accuracy: 98.685%\n",
      "Epoch 3 Batch 5100 loss:  0.00 Train Accuracy: 98.676%\n",
      "Epoch 3 Batch 5400 loss:  0.00 Train Accuracy: 98.681%\n",
      "Epoch 3 Batch 5700 loss:  0.00 Train Accuracy: 98.674%\n",
      "Epoch 3 Batch 6000 loss:  0.00 Train Accuracy: 98.667%\n",
      "After 3 Epoch the Train Accuracy is 98.667% and Test Accuracy is 98.790% \n",
      "\n",
      "Epoch 4 Batch  300 loss:  0.00 Train Accuracy: 99.467%\n",
      "Epoch 4 Batch  600 loss:  0.00 Train Accuracy: 99.267%\n",
      "Epoch 4 Batch  900 loss:  0.00 Train Accuracy: 99.167%\n",
      "Epoch 4 Batch 1200 loss:  0.01 Train Accuracy: 99.167%\n",
      "Epoch 4 Batch 1500 loss:  0.00 Train Accuracy: 99.167%\n",
      "Epoch 4 Batch 1800 loss:  0.00 Train Accuracy: 99.172%\n",
      "Epoch 4 Batch 2100 loss:  0.00 Train Accuracy: 99.133%\n",
      "Epoch 4 Batch 2400 loss:  0.04 Train Accuracy: 99.108%\n",
      "Epoch 4 Batch 2700 loss:  0.00 Train Accuracy: 99.089%\n",
      "Epoch 4 Batch 3000 loss:  0.05 Train Accuracy: 99.017%\n",
      "Epoch 4 Batch 3300 loss:  0.00 Train Accuracy: 99.006%\n",
      "Epoch 4 Batch 3600 loss:  0.00 Train Accuracy: 98.997%\n",
      "Epoch 4 Batch 3900 loss:  0.00 Train Accuracy: 98.987%\n",
      "Epoch 4 Batch 4200 loss:  0.02 Train Accuracy: 98.995%\n",
      "Epoch 4 Batch 4500 loss:  0.00 Train Accuracy: 98.991%\n",
      "Epoch 4 Batch 4800 loss:  0.01 Train Accuracy: 98.992%\n",
      "Epoch 4 Batch 5100 loss:  0.01 Train Accuracy: 98.986%\n",
      "Epoch 4 Batch 5400 loss:  0.00 Train Accuracy: 98.972%\n",
      "Epoch 4 Batch 5700 loss:  0.00 Train Accuracy: 98.991%\n",
      "Epoch 4 Batch 6000 loss:  0.00 Train Accuracy: 99.003%\n",
      "After 4 Epoch the Train Accuracy is 99.003% and Test Accuracy is 98.940% \n",
      "\n",
      "Epoch 5 Batch  300 loss:  0.00 Train Accuracy: 99.533%\n",
      "Epoch 5 Batch  600 loss:  0.01 Train Accuracy: 99.467%\n",
      "Epoch 5 Batch  900 loss:  0.00 Train Accuracy: 99.467%\n",
      "Epoch 5 Batch 1200 loss:  0.03 Train Accuracy: 99.325%\n",
      "Epoch 5 Batch 1500 loss:  0.09 Train Accuracy: 99.273%\n",
      "Epoch 5 Batch 1800 loss:  0.00 Train Accuracy: 99.306%\n",
      "Epoch 5 Batch 2100 loss:  0.02 Train Accuracy: 99.305%\n",
      "Epoch 5 Batch 2400 loss:  0.00 Train Accuracy: 99.292%\n",
      "Epoch 5 Batch 2700 loss:  0.00 Train Accuracy: 99.226%\n",
      "Epoch 5 Batch 3000 loss:  0.01 Train Accuracy: 99.210%\n",
      "Epoch 5 Batch 3300 loss:  0.00 Train Accuracy: 99.200%\n",
      "Epoch 5 Batch 3600 loss:  0.00 Train Accuracy: 99.219%\n",
      "Epoch 5 Batch 3900 loss:  0.17 Train Accuracy: 99.174%\n",
      "Epoch 5 Batch 4200 loss:  0.00 Train Accuracy: 99.174%\n",
      "Epoch 5 Batch 4500 loss:  0.10 Train Accuracy: 99.162%\n",
      "Epoch 5 Batch 4800 loss:  0.00 Train Accuracy: 99.162%\n",
      "Epoch 5 Batch 5100 loss:  0.00 Train Accuracy: 99.153%\n",
      "Epoch 5 Batch 5400 loss:  0.00 Train Accuracy: 99.139%\n",
      "Epoch 5 Batch 5700 loss:  0.00 Train Accuracy: 99.130%\n",
      "Epoch 5 Batch 6000 loss:  0.03 Train Accuracy: 99.117%\n",
      "After 5 Epoch the Train Accuracy is 99.117% and Test Accuracy is 99.030% \n",
      "\n",
      "Epoch 6 Batch  300 loss:  0.00 Train Accuracy: 99.267%\n",
      "Epoch 6 Batch  600 loss:  0.00 Train Accuracy: 99.400%\n",
      "Epoch 6 Batch  900 loss:  0.00 Train Accuracy: 99.433%\n",
      "Epoch 6 Batch 1200 loss:  0.00 Train Accuracy: 99.450%\n",
      "Epoch 6 Batch 1500 loss:  0.00 Train Accuracy: 99.440%\n",
      "Epoch 6 Batch 1800 loss:  0.00 Train Accuracy: 99.428%\n",
      "Epoch 6 Batch 2100 loss:  0.00 Train Accuracy: 99.386%\n",
      "Epoch 6 Batch 2400 loss:  0.16 Train Accuracy: 99.346%\n",
      "Epoch 6 Batch 2700 loss:  0.00 Train Accuracy: 99.330%\n",
      "Epoch 6 Batch 3000 loss:  0.01 Train Accuracy: 99.327%\n",
      "Epoch 6 Batch 3300 loss:  0.00 Train Accuracy: 99.345%\n",
      "Epoch 6 Batch 3600 loss:  0.00 Train Accuracy: 99.364%\n",
      "Epoch 6 Batch 3900 loss:  0.00 Train Accuracy: 99.354%\n",
      "Epoch 6 Batch 4200 loss:  0.00 Train Accuracy: 99.350%\n",
      "Epoch 6 Batch 4500 loss:  0.01 Train Accuracy: 99.351%\n",
      "Epoch 6 Batch 4800 loss:  0.00 Train Accuracy: 99.358%\n",
      "Epoch 6 Batch 5100 loss:  0.00 Train Accuracy: 99.365%\n",
      "Epoch 6 Batch 5400 loss:  0.00 Train Accuracy: 99.341%\n",
      "Epoch 6 Batch 5700 loss:  0.00 Train Accuracy: 99.332%\n",
      "Epoch 6 Batch 6000 loss:  0.00 Train Accuracy: 99.323%\n",
      "After 6 Epoch the Train Accuracy is 99.323% and Test Accuracy is 98.890% \n",
      "\n",
      "Epoch 7 Batch  300 loss:  0.00 Train Accuracy: 99.067%\n",
      "Epoch 7 Batch  600 loss:  0.00 Train Accuracy: 99.250%\n",
      "Epoch 7 Batch  900 loss:  0.00 Train Accuracy: 99.356%\n",
      "Epoch 7 Batch 1200 loss:  0.00 Train Accuracy: 99.442%\n",
      "Epoch 7 Batch 1500 loss:  0.01 Train Accuracy: 99.440%\n",
      "Epoch 7 Batch 1800 loss:  0.00 Train Accuracy: 99.361%\n",
      "Epoch 7 Batch 2100 loss:  0.00 Train Accuracy: 99.367%\n",
      "Epoch 7 Batch 2400 loss:  0.00 Train Accuracy: 99.388%\n",
      "Epoch 7 Batch 2700 loss:  0.10 Train Accuracy: 99.374%\n",
      "Epoch 7 Batch 3000 loss:  0.00 Train Accuracy: 99.393%\n",
      "Epoch 7 Batch 3300 loss:  0.00 Train Accuracy: 99.364%\n",
      "Epoch 7 Batch 3600 loss:  0.00 Train Accuracy: 99.361%\n",
      "Epoch 7 Batch 3900 loss:  0.00 Train Accuracy: 99.341%\n",
      "Epoch 7 Batch 4200 loss:  0.02 Train Accuracy: 99.350%\n",
      "Epoch 7 Batch 4500 loss:  0.00 Train Accuracy: 99.327%\n",
      "Epoch 7 Batch 4800 loss:  0.00 Train Accuracy: 99.331%\n",
      "Epoch 7 Batch 5100 loss:  0.00 Train Accuracy: 99.335%\n",
      "Epoch 7 Batch 5400 loss:  0.00 Train Accuracy: 99.337%\n",
      "Epoch 7 Batch 5700 loss:  0.00 Train Accuracy: 99.340%\n",
      "Epoch 7 Batch 6000 loss:  0.00 Train Accuracy: 99.345%\n",
      "After 7 Epoch the Train Accuracy is 99.345% and Test Accuracy is 98.800% \n",
      "\n",
      "Epoch 8 Batch  300 loss:  0.00 Train Accuracy: 99.633%\n",
      "Epoch 8 Batch  600 loss:  0.00 Train Accuracy: 99.683%\n",
      "Epoch 8 Batch  900 loss:  0.00 Train Accuracy: 99.733%\n",
      "Epoch 8 Batch 1200 loss:  0.00 Train Accuracy: 99.667%\n",
      "Epoch 8 Batch 1500 loss:  0.00 Train Accuracy: 99.567%\n",
      "Epoch 8 Batch 1800 loss:  0.00 Train Accuracy: 99.550%\n",
      "Epoch 8 Batch 2100 loss:  0.00 Train Accuracy: 99.505%\n",
      "Epoch 8 Batch 2400 loss:  0.00 Train Accuracy: 99.513%\n",
      "Epoch 8 Batch 2700 loss:  0.00 Train Accuracy: 99.541%\n",
      "Epoch 8 Batch 3000 loss:  0.00 Train Accuracy: 99.507%\n",
      "Epoch 8 Batch 3300 loss:  0.01 Train Accuracy: 99.512%\n",
      "Epoch 8 Batch 3600 loss:  0.00 Train Accuracy: 99.517%\n",
      "Epoch 8 Batch 3900 loss:  0.00 Train Accuracy: 99.515%\n",
      "Epoch 8 Batch 4200 loss:  0.00 Train Accuracy: 99.493%\n",
      "Epoch 8 Batch 4500 loss:  0.00 Train Accuracy: 99.478%\n",
      "Epoch 8 Batch 4800 loss:  0.00 Train Accuracy: 99.473%\n",
      "Epoch 8 Batch 5100 loss:  0.00 Train Accuracy: 99.478%\n",
      "Epoch 8 Batch 5400 loss:  0.00 Train Accuracy: 99.467%\n",
      "Epoch 8 Batch 5700 loss:  0.03 Train Accuracy: 99.454%\n",
      "Epoch 8 Batch 6000 loss:  0.00 Train Accuracy: 99.468%\n",
      "After 8 Epoch the Train Accuracy is 99.468% and Test Accuracy is 98.950% \n",
      "\n",
      "Epoch 9 Batch  300 loss:  0.00 Train Accuracy: 99.433%\n",
      "Epoch 9 Batch  600 loss:  0.87 Train Accuracy: 99.517%\n",
      "Epoch 9 Batch  900 loss:  0.00 Train Accuracy: 99.589%\n",
      "Epoch 9 Batch 1200 loss:  0.00 Train Accuracy: 99.608%\n",
      "Epoch 9 Batch 1500 loss:  0.01 Train Accuracy: 99.513%\n",
      "Epoch 9 Batch 1800 loss:  0.00 Train Accuracy: 99.494%\n",
      "Epoch 9 Batch 2100 loss:  0.00 Train Accuracy: 99.505%\n",
      "Epoch 9 Batch 2400 loss:  0.00 Train Accuracy: 99.550%\n",
      "Epoch 9 Batch 2700 loss:  0.02 Train Accuracy: 99.530%\n",
      "Epoch 9 Batch 3000 loss:  0.00 Train Accuracy: 99.550%\n",
      "Epoch 9 Batch 3300 loss:  0.00 Train Accuracy: 99.530%\n",
      "Epoch 9 Batch 3600 loss:  0.00 Train Accuracy: 99.514%\n",
      "Epoch 9 Batch 3900 loss:  0.02 Train Accuracy: 99.492%\n",
      "Epoch 9 Batch 4200 loss:  0.00 Train Accuracy: 99.486%\n",
      "Epoch 9 Batch 4500 loss:  0.18 Train Accuracy: 99.484%\n",
      "Epoch 9 Batch 4800 loss:  0.01 Train Accuracy: 99.481%\n",
      "Epoch 9 Batch 5100 loss:  0.00 Train Accuracy: 99.461%\n",
      "Epoch 9 Batch 5400 loss:  0.00 Train Accuracy: 99.467%\n",
      "Epoch 9 Batch 5700 loss:  0.00 Train Accuracy: 99.453%\n",
      "Epoch 9 Batch 6000 loss:  0.00 Train Accuracy: 99.453%\n",
      "After 9 Epoch the Train Accuracy is 99.453% and Test Accuracy is 98.980% \n",
      "\n"
     ]
    }
   ],
   "source": [
    "epochs = 9\n",
    "train_loss= []\n",
    "test_loss= []\n",
    "train_acc=[]\n",
    "test_acc = []\n",
    "\n",
    "print(f'\\nConvolutional Neural Network Model Metrics:\\n')\n",
    "print(f'\\t This CNN model configuration has {epochs} epochs with each batch size of {bat_sz} images:\\n')\n",
    "for i in range(epochs):\n",
    "    \n",
    "    train_crt_pred = 0\n",
    "    test_crt_pred = 0\n",
    "    conf_mat= torch.FloatTensor([])\n",
    "    \n",
    "    for b,(x_train,y_train) in enumerate (train_loader):\n",
    "        b += 1\n",
    "        y_pred = model.forward(x_train)\n",
    "        loss= criterion(y_pred,y_train)\n",
    "        \n",
    "        buffer = torch.max(y_pred.data, 1) [1]\n",
    "        batch_acc = (buffer == y_train).sum()\n",
    "        train_crt_pred +=  batch_acc\n",
    "        \n",
    "        optimizer.zero_grad()\n",
    "        loss.backward()\n",
    "        optimizer.step()\n",
    "                \n",
    "        if b%300 == 0:\n",
    "            print(f'Epoch{i+1:2} Batch {b:4} loss: {loss.item():5.2f} Train Accuracy: {train_crt_pred.item()*100/(bat_sz*b):6.3f}%')\n",
    "    \n",
    "    train_loss.append(loss)  #loss after 1 epoch\n",
    "    train_acc.append(train_crt_pred) # crt predictions after 1 epoch\n",
    "    \n",
    "    \n",
    "    with torch.no_grad():  #testing after 1 complete epoch\n",
    "        for b,(x_test,y_test) in enumerate (test_loader):\n",
    "            b += 1\n",
    "            y_eval = model.forward(x_test)\n",
    "            loss= criterion(y_eval,y_test)\n",
    "            buffer1 = torch.max(y_eval.data, 1) [1]\n",
    "            conf_mat =  torch.cat((conf_mat.float(),buffer1.float()),0)\n",
    "            batch_acc = (buffer1 == y_test).sum()\n",
    "            test_crt_pred +=  batch_acc\n",
    "    \n",
    "    test_loss.append(loss) #test loss after the last completed epoch\n",
    "    test_acc.append(test_crt_pred) # crt predictions using the last completed epoch\n",
    "\n",
    "    print(f'After {i+1} Epoch the Train Accuracy is {(train_crt_pred.item()/len(train_data))*100:6.3f}% and Test Accuracy is {(test_crt_pred.item()/len(test_data))*100:6.3f}% \\n')     \n",
    "    \n",
    "        "
   ]
  },
  {
   "cell_type": "markdown",
   "metadata": {},
   "source": [
    "# Model Evaluation"
   ]
  },
  {
   "cell_type": "code",
   "execution_count": 14,
   "metadata": {},
   "outputs": [],
   "source": [
    "from sklearn.metrics import confusion_matrix \n",
    "from sklearn.metrics import confusion_matrix,classification_report"
   ]
  },
  {
   "cell_type": "code",
   "execution_count": 15,
   "metadata": {},
   "outputs": [
    {
     "name": "stdout",
     "output_type": "stream",
     "text": [
      "\n",
      "The Confusion Matrix is plotted below:\n"
     ]
    },
    {
     "data": {
      "text/html": [
       "<div>\n",
       "<style scoped>\n",
       "    .dataframe tbody tr th:only-of-type {\n",
       "        vertical-align: middle;\n",
       "    }\n",
       "\n",
       "    .dataframe tbody tr th {\n",
       "        vertical-align: top;\n",
       "    }\n",
       "\n",
       "    .dataframe thead th {\n",
       "        text-align: right;\n",
       "    }\n",
       "</style>\n",
       "<table border=\"1\" class=\"dataframe\">\n",
       "  <thead>\n",
       "    <tr style=\"text-align: right;\">\n",
       "      <th></th>\n",
       "      <th>0</th>\n",
       "      <th>1</th>\n",
       "      <th>2</th>\n",
       "      <th>3</th>\n",
       "      <th>4</th>\n",
       "      <th>5</th>\n",
       "      <th>6</th>\n",
       "      <th>7</th>\n",
       "      <th>8</th>\n",
       "      <th>9</th>\n",
       "    </tr>\n",
       "  </thead>\n",
       "  <tbody>\n",
       "    <tr>\n",
       "      <td>0</td>\n",
       "      <td>971</td>\n",
       "      <td>0</td>\n",
       "      <td>1</td>\n",
       "      <td>0</td>\n",
       "      <td>0</td>\n",
       "      <td>1</td>\n",
       "      <td>2</td>\n",
       "      <td>2</td>\n",
       "      <td>1</td>\n",
       "      <td>2</td>\n",
       "    </tr>\n",
       "    <tr>\n",
       "      <td>1</td>\n",
       "      <td>0</td>\n",
       "      <td>1128</td>\n",
       "      <td>0</td>\n",
       "      <td>2</td>\n",
       "      <td>0</td>\n",
       "      <td>1</td>\n",
       "      <td>2</td>\n",
       "      <td>1</td>\n",
       "      <td>1</td>\n",
       "      <td>0</td>\n",
       "    </tr>\n",
       "    <tr>\n",
       "      <td>2</td>\n",
       "      <td>1</td>\n",
       "      <td>0</td>\n",
       "      <td>1021</td>\n",
       "      <td>0</td>\n",
       "      <td>1</td>\n",
       "      <td>0</td>\n",
       "      <td>2</td>\n",
       "      <td>7</td>\n",
       "      <td>0</td>\n",
       "      <td>0</td>\n",
       "    </tr>\n",
       "    <tr>\n",
       "      <td>3</td>\n",
       "      <td>0</td>\n",
       "      <td>0</td>\n",
       "      <td>1</td>\n",
       "      <td>999</td>\n",
       "      <td>0</td>\n",
       "      <td>8</td>\n",
       "      <td>0</td>\n",
       "      <td>0</td>\n",
       "      <td>2</td>\n",
       "      <td>0</td>\n",
       "    </tr>\n",
       "    <tr>\n",
       "      <td>4</td>\n",
       "      <td>1</td>\n",
       "      <td>0</td>\n",
       "      <td>0</td>\n",
       "      <td>0</td>\n",
       "      <td>970</td>\n",
       "      <td>0</td>\n",
       "      <td>3</td>\n",
       "      <td>1</td>\n",
       "      <td>0</td>\n",
       "      <td>7</td>\n",
       "    </tr>\n",
       "    <tr>\n",
       "      <td>5</td>\n",
       "      <td>1</td>\n",
       "      <td>0</td>\n",
       "      <td>1</td>\n",
       "      <td>6</td>\n",
       "      <td>0</td>\n",
       "      <td>883</td>\n",
       "      <td>1</td>\n",
       "      <td>0</td>\n",
       "      <td>0</td>\n",
       "      <td>0</td>\n",
       "    </tr>\n",
       "    <tr>\n",
       "      <td>6</td>\n",
       "      <td>3</td>\n",
       "      <td>2</td>\n",
       "      <td>0</td>\n",
       "      <td>0</td>\n",
       "      <td>1</td>\n",
       "      <td>4</td>\n",
       "      <td>947</td>\n",
       "      <td>0</td>\n",
       "      <td>1</td>\n",
       "      <td>0</td>\n",
       "    </tr>\n",
       "    <tr>\n",
       "      <td>7</td>\n",
       "      <td>0</td>\n",
       "      <td>3</td>\n",
       "      <td>2</td>\n",
       "      <td>2</td>\n",
       "      <td>0</td>\n",
       "      <td>0</td>\n",
       "      <td>0</td>\n",
       "      <td>1019</td>\n",
       "      <td>0</td>\n",
       "      <td>2</td>\n",
       "    </tr>\n",
       "    <tr>\n",
       "      <td>8</td>\n",
       "      <td>3</td>\n",
       "      <td>0</td>\n",
       "      <td>2</td>\n",
       "      <td>2</td>\n",
       "      <td>0</td>\n",
       "      <td>1</td>\n",
       "      <td>0</td>\n",
       "      <td>0</td>\n",
       "      <td>965</td>\n",
       "      <td>1</td>\n",
       "    </tr>\n",
       "    <tr>\n",
       "      <td>9</td>\n",
       "      <td>0</td>\n",
       "      <td>0</td>\n",
       "      <td>0</td>\n",
       "      <td>4</td>\n",
       "      <td>3</td>\n",
       "      <td>3</td>\n",
       "      <td>0</td>\n",
       "      <td>1</td>\n",
       "      <td>3</td>\n",
       "      <td>995</td>\n",
       "    </tr>\n",
       "  </tbody>\n",
       "</table>\n",
       "</div>"
      ],
      "text/plain": [
       "     0     1     2    3    4    5    6     7    8    9\n",
       "0  971     0     1    0    0    1    2     2    1    2\n",
       "1    0  1128     0    2    0    1    2     1    1    0\n",
       "2    1     0  1021    0    1    0    2     7    0    0\n",
       "3    0     0     1  999    0    8    0     0    2    0\n",
       "4    1     0     0    0  970    0    3     1    0    7\n",
       "5    1     0     1    6    0  883    1     0    0    0\n",
       "6    3     2     0    0    1    4  947     0    1    0\n",
       "7    0     3     2    2    0    0    0  1019    0    2\n",
       "8    3     0     2    2    0    1    0     0  965    1\n",
       "9    0     0     0    4    3    3    0     1    3  995"
      ]
     },
     "metadata": {},
     "output_type": "display_data"
    },
    {
     "name": "stdout",
     "output_type": "stream",
     "text": [
      "\n",
      "The Classification Report is plotted below: \n",
      "\n",
      "               precision    recall  f1-score   support\n",
      "\n",
      "         0.0       0.99      0.99      0.99       980\n",
      "         1.0       1.00      0.99      0.99      1135\n",
      "         2.0       0.99      0.99      0.99      1032\n",
      "         3.0       0.98      0.99      0.99      1010\n",
      "         4.0       0.99      0.99      0.99       982\n",
      "         5.0       0.98      0.99      0.98       892\n",
      "         6.0       0.99      0.99      0.99       958\n",
      "         7.0       0.99      0.99      0.99      1028\n",
      "         8.0       0.99      0.99      0.99       974\n",
      "         9.0       0.99      0.99      0.99      1009\n",
      "\n",
      "    accuracy                           0.99     10000\n",
      "   macro avg       0.99      0.99      0.99     10000\n",
      "weighted avg       0.99      0.99      0.99     10000\n",
      "\n"
     ]
    }
   ],
   "source": [
    "print('\\nThe Confusion Matrix is plotted below:')\n",
    "display(pd.DataFrame(confusion_matrix(torch.Tensor([r for q,r in test_data]).reshape(-1,1),conf_mat.reshape(-1,1),labels=[0,1,2,3,4,5,6,7,8,9]),index=[0,1,2,3,4,5,6,7,8,9],columns=[0,1,2,3,4,5,6,7,8,9]))\n",
    "print('\\nThe Classification Report is plotted below: \\n\\n',classification_report(torch.Tensor([r for q,r in test_data]).reshape(-1,1),conf_mat.reshape(-1,1)))\n"
   ]
  },
  {
   "cell_type": "code",
   "execution_count": 16,
   "metadata": {
    "scrolled": false
   },
   "outputs": [
    {
     "data": {
      "image/png": "[encoded data removed]",
      "text/plain": [
       "<Figure size 1080x504 with 1 Axes>"
      ]
     },
     "metadata": {
      "needs_background": "light"
     },
     "output_type": "display_data"
    }
   ],
   "source": [
    "plt.figure(figsize=(15,7))\n",
    "plt.plot([t/600 for t in train_acc], label='Train score',marker='o',alpha=0.8)\n",
    "plt.plot([t/100 for t in test_acc], label='Test score',marker='o')\n",
    "plt.title('\\nTrain Vs Test Accuracy over Epochs\\n',fontsize=16)\n",
    "# plt.xticks(np.arange(0,20,1));\n",
    "plt.xlabel('Epochs',fontsize=14)\n",
    "plt.ylabel('Accuracy Metrics',fontsize=14)\n",
    "plt.legend();"
   ]
  },
  {
   "cell_type": "markdown",
   "metadata": {},
   "source": [
    "From above we can see that, at the epoch 5 we have better Test results hence it is wise to stop the training at 5th epoch "
   ]
  },
  {
   "cell_type": "code",
   "execution_count": 17,
   "metadata": {
    "scrolled": false
   },
   "outputs": [
    {
     "data": {
      "image/png": "[encoded data removed]",
      "text/plain": [
       "<Figure size 1080x504 with 1 Axes>"
      ]
     },
     "metadata": {
      "needs_background": "light"
     },
     "output_type": "display_data"
    }
   ],
   "source": [
    "plt.figure(figsize=(15,7))\n",
    "plt.plot([t for t in test_loss], label='Test Loss',marker='o',alpha=0.8)\n",
    "plt.plot([t for t in train_loss], label='Train Loss',marker='o')\n",
    "plt.title('\\nTrain Vs Test Loss over Epochs\\n',fontsize=16)\n",
    "# plt.xticks(np.arange(0,20,1));\n",
    "plt.xlabel('Epochs',fontsize=14)\n",
    "plt.ylabel('Loss Metrics',fontsize=14)\n",
    "plt.legend();"
   ]
  },
  {
   "cell_type": "markdown",
   "metadata": {},
   "source": [
    "# Save the Model"
   ]
  },
  {
   "cell_type": "code",
   "execution_count": 18,
   "metadata": {},
   "outputs": [],
   "source": [
    "torch.save(model.state_dict(), 'MNIST_CNN.pt')"
   ]
  },
  {
   "cell_type": "code",
   "execution_count": null,
   "metadata": {},
   "outputs": [],
   "source": []
  },
  {
   "cell_type": "code",
   "execution_count": null,
   "metadata": {},
   "outputs": [],
   "source": []
  },
  {
   "cell_type": "code",
   "execution_count": null,
   "metadata": {},
   "outputs": [],
   "source": []
  }
 ],
 "metadata": {
  "kernelspec": {
   "display_name": "Python 3",
   "language": "python",
   "name": "python3"
  },
  "language_info": {
   "codemirror_mode": {
    "name": "ipython",
    "version": 3
   },
   "file_extension": ".py",
   "mimetype": "text/x-python",
   "name": "python",
   "nbconvert_exporter": "python",
   "pygments_lexer": "ipython3",
   "version": "3.7.3"
  }
 },
 "nbformat": 4,
 "nbformat_minor": 2
}
